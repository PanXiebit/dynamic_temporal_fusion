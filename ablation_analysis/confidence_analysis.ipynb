{
 "cells": [
  {
   "cell_type": "code",
   "execution_count": 1,
   "metadata": {},
   "outputs": [
    {
     "name": "stdout",
     "output_type": "stream",
     "text": [
      "/home/dell/xp_workspace/sign-lang/dynamic_attn\n"
     ]
    }
   ],
   "source": [
    "import os\n",
    "os.chdir(\"/home/dell/xp_workspace/sign-lang/dynamic_attn\")\n",
    "print(os.getcwd())"
   ]
  },
  {
   "cell_type": "code",
   "execution_count": 2,
   "metadata": {},
   "outputs": [
    {
     "name": "stdout",
     "output_type": "stream",
     "text": [
      "501\n",
      "501\n"
     ]
    }
   ],
   "source": [
    "import pickle\n",
    "with open(\"ablation_analysis/prob_align_v9.pkl\", \"rb\") as f:\n",
    "    align_probs_v9 = pickle.load(f)\n",
    "print(len(align_probs_v9))\n",
    "with open(\"ablation_analysis/prob_align_v0.pkl\", \"rb\") as f:\n",
    "    align_probs_v0 = pickle.load(f)\n",
    "print(len(align_probs_v0))"
   ]
  },
  {
   "cell_type": "code",
   "execution_count": 13,
   "metadata": {},
   "outputs": [
    {
     "name": "stdout",
     "output_type": "stream",
     "text": [
      "4 33\n",
      "blank_v9 < blank_v0, and v9_prob > vo_prob:  01April_2010_Thursday_tagesschau_default-5\n",
      "4 43\n",
      "blank_v9 < blank_v0, and v9_prob > vo_prob:  01December_2011_Thursday_heute_default-8\n",
      "7 48\n",
      "blank_v9 < blank_v0, and v9_prob > vo_prob:  01December_2011_Thursday_heute_default-9\n",
      "6 51\n",
      "blank_v9 < blank_v0, and v9_prob > vo_prob:  01February_2011_Tuesday_tagesschau_default-7\n",
      "4 53\n",
      "blank_v9 < blank_v0, and v9_prob > vo_prob:  01July_2010_Thursday_tagesschau_default-10\n",
      "6 40\n",
      "blank_v9 < blank_v0, and v9_prob > vo_prob:  01June_2010_Tuesday_heute_default-10\n",
      "4 48\n",
      "blank_v9 < blank_v0, and v9_prob > vo_prob:  01June_2010_Tuesday_tagesschau_default-6\n",
      "4 34\n",
      "blank_v9 < blank_v0, and v9_prob > vo_prob:  01June_2011_Wednesday_tagesschau_default-13\n",
      "4 56\n",
      "blank_v9 < blank_v0, and v9_prob > vo_prob:  01May_2010_Saturday_tagesschau_default-2\n",
      "4 28\n",
      "blank_v9 < blank_v0, and v9_prob > vo_prob:  01May_2010_Saturday_tagesschau_default-3\n",
      "4 33\n",
      "blank_v9 < blank_v0, and v9_prob > vo_prob:  01May_2010_Saturday_tagesschau_default-5\n",
      "6 39\n",
      "blank_v9 < blank_v0, and v9_prob > vo_prob:  01October_2012_Monday_tagesschau_default-6\n",
      "4 31\n",
      "blank_v9 < blank_v0, and v9_prob > vo_prob:  01September_2010_Wednesday_tagesschau_default-7\n",
      "4 39\n",
      "blank_v9 < blank_v0, and v9_prob > vo_prob:  02August_2010_Monday_heute_default-6\n",
      "4 39\n",
      "blank_v9 < blank_v0, and v9_prob > vo_prob:  02August_2010_Monday_heute_default-9\n",
      "4 37\n",
      "blank_v9 < blank_v0, and v9_prob > vo_prob:  02December_2009_Wednesday_tagesschau_default-9\n",
      "5 45\n",
      "blank_v9 < blank_v0, and v9_prob > vo_prob:  02December_2010_Thursday_heute_default-6\n",
      "4 43\n",
      "blank_v9 < blank_v0, and v9_prob > vo_prob:  02December_2011_Friday_tagesschau_default-2\n",
      "4 41\n",
      "blank_v9 < blank_v0, and v9_prob > vo_prob:  02December_2011_Friday_tagesschau_default-6\n",
      "5 47\n",
      "blank_v9 < blank_v0, and v9_prob > vo_prob:  02February_2010_Tuesday_tagesschau_default-4\n",
      "4 26\n",
      "blank_v9 < blank_v0, and v9_prob > vo_prob:  02February_2010_Tuesday_tagesschau_default-10\n",
      "4 44\n",
      "blank_v9 < blank_v0, and v9_prob > vo_prob:  02June_2010_Wednesday_heute_default-7\n",
      "5 43\n",
      "blank_v9 < blank_v0, and v9_prob > vo_prob:  02June_2010_Wednesday_tagesschau_default-14\n",
      "5 46\n",
      "blank_v9 < blank_v0, and v9_prob > vo_prob:  02March_2011_Wednesday_tagesschau_default-18\n",
      "5 22\n",
      "blank_v9 < blank_v0, and v9_prob > vo_prob:  02November_2010_Tuesday_tagesschau_default-0\n",
      "4 40\n",
      "blank_v9 < blank_v0, and v9_prob > vo_prob:  02November_2010_Tuesday_tagesschau_default-6\n",
      "4 12\n",
      "blank_v9 < blank_v0, and v9_prob > vo_prob:  02October_2012_Tuesday_heute_default-0\n",
      "4 25\n",
      "blank_v9 < blank_v0, and v9_prob > vo_prob:  02September_2010_Thursday_tagesschau_default-0\n",
      "6 31\n",
      "blank_v9 < blank_v0, and v9_prob > vo_prob:  03December_2011_Saturday_tagesschau_default-3\n",
      "4 49\n",
      "blank_v9 < blank_v0, and v9_prob > vo_prob:  03February_2011_Thursday_heute_default-1\n",
      "4 30\n",
      "blank_v9 < blank_v0, and v9_prob > vo_prob:  03February_2011_Thursday_heute_default-10\n",
      "5 66\n",
      "blank_v9 < blank_v0, and v9_prob > vo_prob:  03July_2009_Friday_tagesschau_default-7\n",
      "4 18\n",
      "blank_v9 < blank_v0, and v9_prob > vo_prob:  03July_2011_Sunday_tagesschau_default-0\n",
      "141 360\n",
      "10067 9650\n"
     ]
    }
   ],
   "source": [
    "f_cnt = 0\n",
    "t_cnt = 0\n",
    "total_balnk_v0, total_balnk_v9 = 0, 0\n",
    "\n",
    "\n",
    "for id, (prob, alignment) in align_probs_v0.items():\n",
    "    blank_v0, blank_v9 = 0, 0\n",
    "    for pos in prob:\n",
    "        if pos == 0:\n",
    "            blank_v0 += 1\n",
    "    for pos in align_probs_v9[id][0]:\n",
    "        if pos == 0:\n",
    "            blank_v9 += 1\n",
    "            \n",
    "    if sum(prob) > sum(align_probs_v9[id][0]):\n",
    "        t_cnt += 1\n",
    "    else:\n",
    "        if blank_v9 < blank_v0 and blank_v0 - blank_v9 >= 4:\n",
    "            print(blank_v0 - blank_v9, len(prob))\n",
    "            print(\"blank_v9 < blank_v0, and v9_prob > vo_prob: \", id)\n",
    "        f_cnt += 1\n",
    "    total_balnk_v0 += blank_v0\n",
    "    total_balnk_v9 += blank_v9\n",
    "    \n",
    "print(t_cnt, f_cnt)\n",
    "print(total_balnk_v0, total_balnk_v9)"
   ]
  },
  {
   "cell_type": "code",
   "execution_count": 4,
   "metadata": {},
   "outputs": [],
   "source": [
    "from src.data.vocabulary import Vocabulary\n",
    "import pandas as pd\n",
    "corpus = pd.read_csv(\"Data/slr-phoenix14/train.corpus.csv\", sep='|')\n",
    "videonames = corpus['folder'].values\n",
    "annotation = corpus['annotation'].values\n",
    "ids = corpus['id'].values\n",
    "video_annotation = {}\n",
    "for i in range(len(ids)):\n",
    "    video_annotation[ids[i]] = annotation[i]"
   ]
  },
  {
   "cell_type": "code",
   "execution_count": 6,
   "metadata": {},
   "outputs": [
    {
     "data": {
      "text/plain": [
       "'__ON__ JETZT WETTER WIE-AUSSEHEN MORGEN MITTWOCH DRITTE NOVEMBER __OFF__'"
      ]
     },
     "execution_count": 6,
     "metadata": {},
     "output_type": "execute_result"
    }
   ],
   "source": [
    "gloss = video_annotation[\"02November_2010_Tuesday_tagesschau_default-0\"]\n",
    "gloss"
   ]
  },
  {
   "cell_type": "code",
   "execution_count": 7,
   "metadata": {},
   "outputs": [
    {
     "data": {
      "text/plain": [
       "[1140, 451, 1062, 1065, 574, 566, 208, 695, 1139]"
      ]
     },
     "execution_count": 7,
     "metadata": {},
     "output_type": "execute_result"
    }
   ],
   "source": [
    "vocab = Vocabulary(\"Data/slr-phoenix14/newtrainingClasses.txt\")\n",
    "gloss_ids = []\n",
    "for g in gloss.strip().split():\n",
    "    gloss_ids.append(vocab.word2index[g])\n",
    "gloss_ids"
   ]
  },
  {
   "cell_type": "code",
   "execution_count": 8,
   "metadata": {},
   "outputs": [
    {
     "name": "stdout",
     "output_type": "stream",
     "text": [
      "[1140, 451, 1062, 1065, 574, 566, 208, 695, 1139]\n",
      "[1140  451  451 1062 1062 1236 1065 1065 1236  574 1236 1236  566  566\n",
      " 1236  208  208 1236  695  695  695 1139]\n",
      "[1140  451  451 1236 1062 1236 1065 1236 1236  574 1236 1236  566 1236\n",
      " 1236 1236  208 1236 1236  695  695 1139]\n"
     ]
    }
   ],
   "source": [
    "gloss = video_annotation[\"02November_2010_Tuesday_tagesschau_default-0\"]\n",
    "vocab = Vocabulary(\"Data/slr-phoenix14/newtrainingClasses.txt\")\n",
    "gloss_ids = []\n",
    "for g in gloss.strip().split():\n",
    "    gloss_ids.append(vocab.word2index[g])\n",
    "print(gloss_ids)\n",
    "v9_probs, v9_align = align_probs_v9[\"02November_2010_Tuesday_tagesschau_default-0\"]\n",
    "v0_probs, v0_align = align_probs_v0[\"02November_2010_Tuesday_tagesschau_default-0\"]\n",
    "print(v9_align)\n",
    "print(v0_align)"
   ]
  },
  {
   "cell_type": "code",
   "execution_count": 11,
   "metadata": {},
   "outputs": [
    {
     "name": "stderr",
     "output_type": "stream",
     "text": [
      "/home/dell/anaconda3/lib/python3.7/site-packages/matplotlib/__init__.py:1867: MatplotlibDeprecationWarning: The *left* kwarg to `bar` is deprecated use *x* instead. Support for *left* will be removed in Matplotlib 3.0\n",
      "  return func(ax, *args, **kwargs)\n"
     ]
    },
    {
     "data": {
      "image/png": "[encoded data removed]",
      "text/plain": [
       "<Figure size 1440x432 with 2 Axes>"
      ]
     },
     "metadata": {
      "needs_background": "light"
     },
     "output_type": "display_data"
    }
   ],
   "source": [
    "import numpy as np\n",
    "import matplotlib.pyplot as plt\n",
    "# %matplotlib inline\n",
    "\n",
    "fig, (ax1, ax2) = plt.subplots(2)\n",
    "plt.rcParams[\"figure.figsize\"] = (20,6)\n",
    "\n",
    "\n",
    "palette1 = ['#2a5495', '#2a5495', '#07a64c', '#07a64c', '#07a64c', \n",
    "           '#e979ad', '#e979ad', '#d88432', '#d88432', '#d88432', \n",
    "           '#b9c09b', '#b9c09b', '#b9c09b', '#cd065d', '#cd065d',\n",
    "           '#cd065d', '#82c5db', '#b9c09b', '#4b117f', '#4b117f',\n",
    "           '#b7040e', '#b7040e', '#2a5495', '#2a5495', '#2a5495',\n",
    "           '#82c5db', '#82c5db', '#b9c09b', '#cd065d', '#07a64d',\n",
    "           '#07a64d', '#e979ad', '#e979ad', '#cd065d', '#4b117f']\n",
    "\n",
    "palette2 = ['#2a5495', '#2a5495', '#07a64c', '#07a64c', '#07a64c', \n",
    "           '#e979ad', '#e979ad', '#d88432', '#d88432', '#d88432', \n",
    "           '#b9c09b', '#b9c09b', '#b9c09b', '#cd065d', '#cd065d',\n",
    "           '#cd065d', '#82c5db', '#b9c09b', '#4b117f', '#4b117f',\n",
    "           '#b7040e', '#b7040e', '#b7040e', '#2a5495', '#2a5495',\n",
    "           '#b7040e', '#82c5db', '#b9c09b', '#cd065d', '#cd065d',\n",
    "           '#07a64d', '#07a64d', '#e979ad', '#cd065d', '#4b117f']\n",
    "\n",
    "x = list(range(len(v0_probs)))\n",
    "\n",
    "y1 = v0_probs\n",
    "\n",
    "width = 1.0\n",
    "lefts = [x * width for x, _ in enumerate(y1)]\n",
    "\n",
    "labels_1 = [id  if id != 1236 else \"-\" for id in v0_align]\n",
    "\n",
    "ax1.bar(left = lefts, height = y1, width = width,  tick_label = labels_1, color = palette1)\n",
    "ax1.axis(ymin = 0, ymax = 1.05, xmin = -1.0, xmax = 35)\n",
    "ax1.tick_params(axis='x', which='major', labelsize=8)\n",
    "ax1.set_xticklabels(ax1.xaxis.get_majorticklabels(), rotation=0, fontsize=12)\n",
    "ax1.set_ylabel('probability', fontsize=15)\n",
    "# ax2.grid(True, axis=\"x\", linewidth=1, ls='--')\n",
    "ax1.set_xlabel('Mainstream', fontsize=15)\n",
    "plt.rcParams['axes.titlesize'] = 10\n",
    "\n",
    "y2 = v9_probs\n",
    "labels_2 = [id  if id != 1236 else \"-\" for id in v9_align]\n",
    "# labels_2 = list(range(1, 36))\n",
    "ax2.bar(left = lefts, height = y2, width = width,  tick_label = labels_2, color = palette2)\n",
    "ax2.axis(ymin = 0, ymax = 1.05, xmin = -1.0, xmax = 35)\n",
    "ax2.tick_params(axis='x', which='major', labelsize=8)\n",
    "ax2.set_xticklabels(ax2.xaxis.get_majorticklabels(), rotation=0, fontsize=12)\n",
    "# ax1.grid(True, axis=\"x\", linewidth=1, ls='--')\n",
    "ax2.set_ylabel('probability', fontsize=15)\n",
    "ax2.set_xlabel('Ours', fontsize=15)\n",
    "# ax1.set_title('ours')\n",
    "\n",
    "\n",
    "\n",
    "fig.tight_layout()#调整整体空白\n",
    "plt.subplots_adjust(wspace=0, hspace=0.4)#调整子图间距\n",
    "plt.savefig(\"ablation_analysis/confidence.png\")\n",
    "plt.show()\n"
   ]
  },
  {
   "cell_type": "code",
   "execution_count": 14,
   "metadata": {},
   "outputs": [
    {
     "name": "stdout",
     "output_type": "stream",
     "text": [
      "alignment.py\t\t   confidence.png  prob_align_v0.pkl  similarity.py\r\n",
      "binomial_distribution..py  confidence.py   prob_align_v9.pkl\r\n",
      "confidence_analysis.ipynb  __init__.py\t   __pycache__\r\n"
     ]
    }
   ],
   "source": [
    "!ls ablation_analysis"
   ]
  },
  {
   "cell_type": "code",
   "execution_count": 15,
   "metadata": {},
   "outputs": [],
   "source": [
    "labels = [id  if id != 1236 else \"-\" for id in v9_align]"
   ]
  },
  {
   "cell_type": "code",
   "execution_count": 16,
   "metadata": {},
   "outputs": [
    {
     "name": "stdout",
     "output_type": "stream",
     "text": [
      "[1140, 451, 451, 1062, 1062, '-', 1065, 1065, '-', 574, '-', '-', 566, 566, '-', 208, 208, '-', 695, 695, 695, 1139]\n"
     ]
    }
   ],
   "source": [
    "print(labels)"
   ]
  },
  {
   "cell_type": "code",
   "execution_count": null,
   "metadata": {},
   "outputs": [],
   "source": []
  }
 ],
 "metadata": {
  "kernelspec": {
   "display_name": "Python 3",
   "language": "python",
   "name": "python3"
  },
  "language_info": {
   "codemirror_mode": {
    "name": "ipython",
    "version": 3
   },
   "file_extension": ".py",
   "mimetype": "text/x-python",
   "name": "python",
   "nbconvert_exporter": "python",
   "pygments_lexer": "ipython3",
   "version": "3.7.0"
  }
 },
 "nbformat": 4,
 "nbformat_minor": 2
}
